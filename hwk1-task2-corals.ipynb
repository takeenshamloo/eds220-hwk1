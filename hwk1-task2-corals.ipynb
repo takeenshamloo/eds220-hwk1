{
 "cells": [
  {
   "cell_type": "code",
   "execution_count": null,
   "metadata": {
    "deletable": false,
    "editable": false
   },
   "outputs": [],
   "source": [
    "# Initialize Otter\n",
    "import otter\n",
    "grader = otter.Notebook(\"hwk1-task2-corals.ipynb\")"
   ]
  },
  {
   "cell_type": "markdown",
   "metadata": {},
   "source": [
    "# Task 2: Exploring coral diversity data\n",
    "\n",
    "## Instructions \n",
    "\n",
    "- First, update the following cell to have a link to *your* Homework 1 GitHub repository: "
   ]
  },
  {
   "cell_type": "markdown",
   "metadata": {},
   "source": [
    "**UPDATE THIS LINK:**\n",
    "\n",
    "https://github.com/takeenshamloo/eds220-hwk1"
   ]
  },
  {
   "cell_type": "markdown",
   "metadata": {},
   "source": [
    "- This task covers topics on the lesson on [subsetting `pandas.DataFrames`](https://meds-eds-220.github.io/MEDS-eds-220-course/book/chapters/lesson-3-pandas-subsetting/lesson-3-pandas-subsetting.html). The best strategy to solve it is to get together with your classmates and work on it together after that lecture.\n",
    "\n",
    "- Review the [complete rubric for this task](https://docs.google.com/document/d/131OnUDOLpOl94SlaMU9nGqT998ABrjFS/edit?usp=sharing&ouid=111507336322611936333&rtpof=true&sd=true) before starting.\n",
    "\n",
    "- **Make at least 5 commits at moments you think are adequate.** We'll check your repository and view the commit history.\n",
    "\n",
    "- **Add comments for all your code.** Err on the side of commenting too much for now. Comments should follow best practices.\n",
    "\n",
    "- **Do not update the top cell with the `otter` import**, this is used internally for grading.\n",
    "\n"
   ]
  },
  {
   "cell_type": "markdown",
   "metadata": {
    "deletable": false,
    "editable": false
   },
   "source": [
    "<!-- BEGIN QUESTION -->\n",
    "\n",
    "\n",
    "## 1\n",
    "For this task we are going to use data about  [Western Indian Ocean Coral Diversity (McClanahan, 2023)](https://knb.ecoinformatics.org/view/doi%3A10.5063%2FF1K35S3H) from the Knowledge Network for Biocomplexity (KNB) data repository. \n",
    "\n",
    "a. Navigate to the dataset's link and explore the data package. \n",
    " \n",
    "b. Use the next markdown cell to add a brief description of the dataset, including a citation, date of access, and a link to the archive. \n"
   ]
  },
  {
   "cell_type": "markdown",
   "metadata": {},
   "source": [
    "_Answer:_\n",
    "\n",
    "In this dataset the scientists processed coral reef data to better predict the diversity of coral taxa in  2050. They processed 7039 reef cells in the Western Indian Ocean. Four predicitive models explored the following:\n",
    "\n",
    "- Influences of climate change\n",
    "- Water Quality\n",
    "- Direct human-resource extraction\n",
    "- Variable selection processes on numbers of coral taxa\n",
    "\n",
    "Their goals were to:\n",
    "\n",
    "- Understand how environmental factors and human activities impact coral diversity\n",
    "- Compare the effectiveness of different climate models in predicting coral loss\n",
    "- Identify the importance of temperature, oxygen levels, and fishing practices for predicting coral diversity\n",
    "- Provide a better insight for conservation efforts by showing where policies could have the most impact.\n",
    "\n",
    "McClanahan, T. (2023). Western Indian Ocean Coral Diversity. Knowledge Network for Biocomplexity.\n",
    "October 12, 2024\n",
    "Link: https://knb.ecoinformatics.org/view/doi%3A10.5063%2FF1K35S3H"
   ]
  },
  {
   "cell_type": "markdown",
   "metadata": {
    "deletable": false,
    "editable": false
   },
   "source": [
    "<!-- END QUESTION -->\n",
    "\n",
    "<!-- BEGIN QUESTION -->\n",
    "\n",
    "## 2\n",
    "In the next code cell, import the `pandas` package using standard abbreviation in a code cell.\n",
    "\n",
    "Read in the data from the URL using the `pd.read_csv` function and store it as `coral_div` like this:\n",
    "\n",
    "```\n",
    "# Read in data\n",
    "coral_div = pd.read_csv('the URL goes here')\n",
    "```"
   ]
  },
  {
   "cell_type": "code",
   "execution_count": 4,
   "metadata": {
    "tags": []
   },
   "outputs": [],
   "source": [
    "# Import pandas using the common using the alias pd\n",
    "import pandas as pd\n",
    "\n",
    "# Reading in our dataset\n",
    "coral_div = pd.read_csv('data/WesternIndianOceanCoralDiversity.csv')"
   ]
  },
  {
   "cell_type": "markdown",
   "metadata": {
    "deletable": false,
    "editable": false
   },
   "source": [
    "<!-- END QUESTION -->\n",
    "\n",
    "## 3\n",
    "\n",
    "Use attributes and methods of the `coral_div` data frame to obtain the following information about it:\n",
    "\n",
    "Use the code cells marked a-e. For each, add a comment explaining what is the ouput."
   ]
  },
  {
   "cell_type": "markdown",
   "metadata": {
    "deletable": false,
    "editable": false
   },
   "source": [
    "a. how many rows and columns does it have? Store your answers in the `rows` and `columns` variables. "
   ]
  },
  {
   "cell_type": "code",
   "execution_count": 36,
   "metadata": {
    "tags": []
   },
   "outputs": [],
   "source": [
    "# a\n",
    "\n",
    "rows = coral_div.shape[0] # Shape at index 0 is the # of rows\n",
    "columns = coral_div.shape[1] # Shape at index 1 is the # of cols"
   ]
  },
  {
   "cell_type": "markdown",
   "metadata": {
    "deletable": false,
    "editable": false
   },
   "source": [
    "b. What are the column names? Store your answer in the `coral_div_columns` variable."
   ]
  },
  {
   "cell_type": "code",
   "execution_count": 37,
   "metadata": {
    "tags": []
   },
   "outputs": [],
   "source": [
    "# b\n",
    "coral_div_columns = coral_div.columns # Returns the name of all the columns of our df as an array"
   ]
  },
  {
   "cell_type": "markdown",
   "metadata": {
    "deletable": false,
    "editable": false
   },
   "source": [
    "c. what are the data types of the columns? Store your answer in the `coral_div_types`."
   ]
  },
  {
   "cell_type": "code",
   "execution_count": 38,
   "metadata": {
    "tags": []
   },
   "outputs": [],
   "source": [
    "# c\n",
    "coral_div_types = coral_div.dtypes # Returns the data types of each column variable"
   ]
  },
  {
   "cell_type": "markdown",
   "metadata": {
    "deletable": false,
    "editable": false
   },
   "source": [
    "d. display the first 8 rows with all the column names. For this one, you will need to udpate a `pandas` option (HINT: check the first discussion section). Store your answer in the `first_8_rows` variable."
   ]
  },
  {
   "cell_type": "code",
   "execution_count": 39,
   "metadata": {
    "tags": []
   },
   "outputs": [],
   "source": [
    "# d\n",
    "\n",
    "# Set pandas options to display all columns instead of ellipsed subset\n",
    "pd.set_option(\"display.max.columns\", None)\n",
    "\n",
    "# Set the first 8 rows using head()\n",
    "first_8_rows = coral_div.head(8)"
   ]
  },
  {
   "cell_type": "code",
   "execution_count": 41,
   "metadata": {
    "tags": []
   },
   "outputs": [
    {
     "data": {
      "text/html": [
       "<div>\n",
       "<style scoped>\n",
       "    .dataframe tbody tr th:only-of-type {\n",
       "        vertical-align: middle;\n",
       "    }\n",
       "\n",
       "    .dataframe tbody tr th {\n",
       "        vertical-align: top;\n",
       "    }\n",
       "\n",
       "    .dataframe thead th {\n",
       "        text-align: right;\n",
       "    }\n",
       "</style>\n",
       "<table border=\"1\" class=\"dataframe\">\n",
       "  <thead>\n",
       "    <tr style=\"text-align: right;\">\n",
       "      <th></th>\n",
       "      <th>PU_ID</th>\n",
       "      <th>PU_Lat</th>\n",
       "      <th>PU_Lon</th>\n",
       "      <th>Number_of_genera</th>\n",
       "      <th>Country</th>\n",
       "      <th>Ecoregion</th>\n",
       "      <th>Management</th>\n",
       "      <th>Habitat</th>\n",
       "      <th>Observer</th>\n",
       "      <th>Depth</th>\n",
       "      <th>Coralcover</th>\n",
       "      <th>SSTRateofRise</th>\n",
       "      <th>PARmax</th>\n",
       "      <th>Calcite</th>\n",
       "      <th>Dis_oxygen</th>\n",
       "      <th>mean.waveNRJ</th>\n",
       "      <th>Salinity_mean</th>\n",
       "      <th>andrello_reef_value</th>\n",
       "      <th>andrello_nutrients</th>\n",
       "      <th>mean.npp</th>\n",
       "      <th>TT_market_hrs</th>\n",
       "      <th>TT_pop_hrs</th>\n",
       "      <th>cumDHW</th>\n",
       "      <th>SST_Kurtosis</th>\n",
       "      <th>SST_Median</th>\n",
       "      <th>ChlorA_median</th>\n",
       "      <th>andrello_sediments</th>\n",
       "      <th>Current_vel_mean</th>\n",
       "      <th>Diff_attenuation</th>\n",
       "      <th>Grav_NP</th>\n",
       "      <th>Grav_NC</th>\n",
       "      <th>PH</th>\n",
       "      <th>SST_bimodality</th>\n",
       "      <th>SST_Skewness</th>\n",
       "      <th>ClimateStressModel</th>\n",
       "      <th>Netflow</th>\n",
       "      <th>Indegree</th>\n",
       "      <th>Outdegree</th>\n",
       "      <th>Retention</th>\n",
       "      <th>min_yr</th>\n",
       "      <th>max_yr</th>\n",
       "      <th>no_replicates</th>\n",
       "    </tr>\n",
       "  </thead>\n",
       "  <tbody>\n",
       "    <tr>\n",
       "      <th>0</th>\n",
       "      <td>7</td>\n",
       "      <td>39.076711</td>\n",
       "      <td>-5.490011</td>\n",
       "      <td>35</td>\n",
       "      <td>Tanzania</td>\n",
       "      <td>East African Coral Coast</td>\n",
       "      <td>UnfishedLow</td>\n",
       "      <td>Crest</td>\n",
       "      <td>Tim</td>\n",
       "      <td>11.0</td>\n",
       "      <td>45</td>\n",
       "      <td>0.019214</td>\n",
       "      <td>54.747001</td>\n",
       "      <td>0.001075</td>\n",
       "      <td>4.7495</td>\n",
       "      <td>3.714321</td>\n",
       "      <td>35.167646</td>\n",
       "      <td>0</td>\n",
       "      <td>8.388602</td>\n",
       "      <td>1139.112671</td>\n",
       "      <td>1.383333</td>\n",
       "      <td>0.366667</td>\n",
       "      <td>24.133263</td>\n",
       "      <td>-0.803330</td>\n",
       "      <td>27.435</td>\n",
       "      <td>0.465182</td>\n",
       "      <td>53540.007810</td>\n",
       "      <td>0.541991</td>\n",
       "      <td>0.09475</td>\n",
       "      <td>0.008503</td>\n",
       "      <td>32.387920</td>\n",
       "      <td>8.2175</td>\n",
       "      <td>0.462556</td>\n",
       "      <td>-0.128136</td>\n",
       "      <td>0.596375</td>\n",
       "      <td>0.144498</td>\n",
       "      <td>98.25</td>\n",
       "      <td>74.75</td>\n",
       "      <td>14.00</td>\n",
       "      <td>2019</td>\n",
       "      <td>2019</td>\n",
       "      <td>1</td>\n",
       "    </tr>\n",
       "    <tr>\n",
       "      <th>1</th>\n",
       "      <td>7</td>\n",
       "      <td>39.076711</td>\n",
       "      <td>-5.490011</td>\n",
       "      <td>22</td>\n",
       "      <td>Tanzania</td>\n",
       "      <td>East African Coral Coast</td>\n",
       "      <td>UnfishedLow</td>\n",
       "      <td>Lagoon/Back reef</td>\n",
       "      <td>Nyawira</td>\n",
       "      <td>2.0</td>\n",
       "      <td>45</td>\n",
       "      <td>0.019214</td>\n",
       "      <td>54.747001</td>\n",
       "      <td>0.001075</td>\n",
       "      <td>4.7495</td>\n",
       "      <td>3.714321</td>\n",
       "      <td>35.167646</td>\n",
       "      <td>0</td>\n",
       "      <td>8.388602</td>\n",
       "      <td>1139.112671</td>\n",
       "      <td>1.383333</td>\n",
       "      <td>0.366667</td>\n",
       "      <td>24.133263</td>\n",
       "      <td>-0.803330</td>\n",
       "      <td>27.435</td>\n",
       "      <td>0.465182</td>\n",
       "      <td>53540.007810</td>\n",
       "      <td>0.541991</td>\n",
       "      <td>0.09475</td>\n",
       "      <td>0.008503</td>\n",
       "      <td>32.387920</td>\n",
       "      <td>8.2175</td>\n",
       "      <td>0.462556</td>\n",
       "      <td>-0.128136</td>\n",
       "      <td>0.596375</td>\n",
       "      <td>0.144498</td>\n",
       "      <td>98.25</td>\n",
       "      <td>74.75</td>\n",
       "      <td>14.00</td>\n",
       "      <td>2010</td>\n",
       "      <td>2015</td>\n",
       "      <td>2</td>\n",
       "    </tr>\n",
       "    <tr>\n",
       "      <th>2</th>\n",
       "      <td>7</td>\n",
       "      <td>39.076711</td>\n",
       "      <td>-5.490011</td>\n",
       "      <td>25</td>\n",
       "      <td>Tanzania</td>\n",
       "      <td>East African Coral Coast</td>\n",
       "      <td>UnfishedLow</td>\n",
       "      <td>Slope</td>\n",
       "      <td>Nyawira</td>\n",
       "      <td>4.0</td>\n",
       "      <td>45</td>\n",
       "      <td>0.019214</td>\n",
       "      <td>54.747001</td>\n",
       "      <td>0.001075</td>\n",
       "      <td>4.7495</td>\n",
       "      <td>3.714321</td>\n",
       "      <td>35.167646</td>\n",
       "      <td>0</td>\n",
       "      <td>8.388602</td>\n",
       "      <td>1139.112671</td>\n",
       "      <td>1.383333</td>\n",
       "      <td>0.366667</td>\n",
       "      <td>24.133263</td>\n",
       "      <td>-0.803330</td>\n",
       "      <td>27.435</td>\n",
       "      <td>0.465182</td>\n",
       "      <td>53540.007810</td>\n",
       "      <td>0.541991</td>\n",
       "      <td>0.09475</td>\n",
       "      <td>0.008503</td>\n",
       "      <td>32.387920</td>\n",
       "      <td>8.2175</td>\n",
       "      <td>0.462556</td>\n",
       "      <td>-0.128136</td>\n",
       "      <td>0.596375</td>\n",
       "      <td>0.144498</td>\n",
       "      <td>98.25</td>\n",
       "      <td>74.75</td>\n",
       "      <td>14.00</td>\n",
       "      <td>2015</td>\n",
       "      <td>2015</td>\n",
       "      <td>1</td>\n",
       "    </tr>\n",
       "    <tr>\n",
       "      <th>3</th>\n",
       "      <td>7</td>\n",
       "      <td>39.076711</td>\n",
       "      <td>-5.490011</td>\n",
       "      <td>26</td>\n",
       "      <td>Tanzania</td>\n",
       "      <td>East African Coral Coast</td>\n",
       "      <td>UnfishedLow</td>\n",
       "      <td>Slope</td>\n",
       "      <td>Nyawira</td>\n",
       "      <td>3.0</td>\n",
       "      <td>45</td>\n",
       "      <td>0.019214</td>\n",
       "      <td>54.747001</td>\n",
       "      <td>0.001075</td>\n",
       "      <td>4.7495</td>\n",
       "      <td>3.714321</td>\n",
       "      <td>35.167646</td>\n",
       "      <td>0</td>\n",
       "      <td>8.388602</td>\n",
       "      <td>1139.112671</td>\n",
       "      <td>1.383333</td>\n",
       "      <td>0.366667</td>\n",
       "      <td>24.133263</td>\n",
       "      <td>-0.803330</td>\n",
       "      <td>27.435</td>\n",
       "      <td>0.465182</td>\n",
       "      <td>53540.007810</td>\n",
       "      <td>0.541991</td>\n",
       "      <td>0.09475</td>\n",
       "      <td>0.008503</td>\n",
       "      <td>32.387920</td>\n",
       "      <td>8.2175</td>\n",
       "      <td>0.462556</td>\n",
       "      <td>-0.128136</td>\n",
       "      <td>0.596375</td>\n",
       "      <td>0.144498</td>\n",
       "      <td>98.25</td>\n",
       "      <td>74.75</td>\n",
       "      <td>14.00</td>\n",
       "      <td>2016</td>\n",
       "      <td>2019</td>\n",
       "      <td>2</td>\n",
       "    </tr>\n",
       "    <tr>\n",
       "      <th>4</th>\n",
       "      <td>10</td>\n",
       "      <td>39.054253</td>\n",
       "      <td>-5.512514</td>\n",
       "      <td>27</td>\n",
       "      <td>Tanzania</td>\n",
       "      <td>East African Coral Coast</td>\n",
       "      <td>UnfishedLow</td>\n",
       "      <td>Lagoon/Back reef</td>\n",
       "      <td>Nyawira</td>\n",
       "      <td>1.5</td>\n",
       "      <td>48</td>\n",
       "      <td>0.020051</td>\n",
       "      <td>55.395000</td>\n",
       "      <td>0.001747</td>\n",
       "      <td>4.7510</td>\n",
       "      <td>3.270938</td>\n",
       "      <td>35.102688</td>\n",
       "      <td>0</td>\n",
       "      <td>6.731860</td>\n",
       "      <td>1126.355957</td>\n",
       "      <td>1.383333</td>\n",
       "      <td>0.366667</td>\n",
       "      <td>25.342901</td>\n",
       "      <td>-0.793681</td>\n",
       "      <td>27.455</td>\n",
       "      <td>0.700521</td>\n",
       "      <td>38477.105470</td>\n",
       "      <td>0.690454</td>\n",
       "      <td>0.11400</td>\n",
       "      <td>0.008503</td>\n",
       "      <td>32.387920</td>\n",
       "      <td>8.2180</td>\n",
       "      <td>0.461297</td>\n",
       "      <td>-0.134548</td>\n",
       "      <td>0.629000</td>\n",
       "      <td>0.011721</td>\n",
       "      <td>112.75</td>\n",
       "      <td>51.50</td>\n",
       "      <td>183.75</td>\n",
       "      <td>2010</td>\n",
       "      <td>2019</td>\n",
       "      <td>3</td>\n",
       "    </tr>\n",
       "    <tr>\n",
       "      <th>5</th>\n",
       "      <td>10</td>\n",
       "      <td>39.054253</td>\n",
       "      <td>-5.512514</td>\n",
       "      <td>29</td>\n",
       "      <td>Tanzania</td>\n",
       "      <td>East African Coral Coast</td>\n",
       "      <td>UnfishedLow</td>\n",
       "      <td>Lagoon/Back reef</td>\n",
       "      <td>Tim</td>\n",
       "      <td>1.5</td>\n",
       "      <td>48</td>\n",
       "      <td>0.020051</td>\n",
       "      <td>55.395000</td>\n",
       "      <td>0.001747</td>\n",
       "      <td>4.7510</td>\n",
       "      <td>3.270938</td>\n",
       "      <td>35.102688</td>\n",
       "      <td>0</td>\n",
       "      <td>6.731860</td>\n",
       "      <td>1126.355957</td>\n",
       "      <td>1.383333</td>\n",
       "      <td>0.366667</td>\n",
       "      <td>25.342901</td>\n",
       "      <td>-0.793681</td>\n",
       "      <td>27.455</td>\n",
       "      <td>0.700521</td>\n",
       "      <td>38477.105470</td>\n",
       "      <td>0.690454</td>\n",
       "      <td>0.11400</td>\n",
       "      <td>0.008503</td>\n",
       "      <td>32.387920</td>\n",
       "      <td>8.2180</td>\n",
       "      <td>0.461297</td>\n",
       "      <td>-0.134548</td>\n",
       "      <td>0.629000</td>\n",
       "      <td>0.011721</td>\n",
       "      <td>112.75</td>\n",
       "      <td>51.50</td>\n",
       "      <td>183.75</td>\n",
       "      <td>2015</td>\n",
       "      <td>2015</td>\n",
       "      <td>1</td>\n",
       "    </tr>\n",
       "    <tr>\n",
       "      <th>6</th>\n",
       "      <td>15</td>\n",
       "      <td>39.054253</td>\n",
       "      <td>-5.535017</td>\n",
       "      <td>19</td>\n",
       "      <td>Tanzania</td>\n",
       "      <td>East African Coral Coast</td>\n",
       "      <td>Restricted</td>\n",
       "      <td>Crest</td>\n",
       "      <td>Tim</td>\n",
       "      <td>8.0</td>\n",
       "      <td>41</td>\n",
       "      <td>0.020051</td>\n",
       "      <td>55.395000</td>\n",
       "      <td>0.001747</td>\n",
       "      <td>4.7510</td>\n",
       "      <td>3.270938</td>\n",
       "      <td>35.102688</td>\n",
       "      <td>0</td>\n",
       "      <td>6.731860</td>\n",
       "      <td>1126.355957</td>\n",
       "      <td>1.383333</td>\n",
       "      <td>0.366667</td>\n",
       "      <td>25.342901</td>\n",
       "      <td>-0.793681</td>\n",
       "      <td>27.455</td>\n",
       "      <td>0.592692</td>\n",
       "      <td>38477.105470</td>\n",
       "      <td>0.690454</td>\n",
       "      <td>0.11400</td>\n",
       "      <td>0.008503</td>\n",
       "      <td>32.387920</td>\n",
       "      <td>8.2180</td>\n",
       "      <td>0.461297</td>\n",
       "      <td>-0.134548</td>\n",
       "      <td>0.595600</td>\n",
       "      <td>0.011721</td>\n",
       "      <td>112.75</td>\n",
       "      <td>51.50</td>\n",
       "      <td>183.75</td>\n",
       "      <td>2019</td>\n",
       "      <td>2019</td>\n",
       "      <td>1</td>\n",
       "    </tr>\n",
       "    <tr>\n",
       "      <th>7</th>\n",
       "      <td>39</td>\n",
       "      <td>39.009337</td>\n",
       "      <td>-5.647518</td>\n",
       "      <td>28</td>\n",
       "      <td>Tanzania</td>\n",
       "      <td>East African Coral Coast</td>\n",
       "      <td>UnfishedLow</td>\n",
       "      <td>Lagoon/Back reef</td>\n",
       "      <td>Nyawira</td>\n",
       "      <td>3.0</td>\n",
       "      <td>49</td>\n",
       "      <td>0.021358</td>\n",
       "      <td>54.935499</td>\n",
       "      <td>0.001744</td>\n",
       "      <td>4.7540</td>\n",
       "      <td>2.857747</td>\n",
       "      <td>35.106329</td>\n",
       "      <td>0</td>\n",
       "      <td>2.645199</td>\n",
       "      <td>1150.677856</td>\n",
       "      <td>1.783333</td>\n",
       "      <td>0.333333</td>\n",
       "      <td>30.265219</td>\n",
       "      <td>-0.795494</td>\n",
       "      <td>27.525</td>\n",
       "      <td>0.656533</td>\n",
       "      <td>3224.024414</td>\n",
       "      <td>0.561659</td>\n",
       "      <td>0.10500</td>\n",
       "      <td>0.512126</td>\n",
       "      <td>19.634828</td>\n",
       "      <td>8.2185</td>\n",
       "      <td>0.464874</td>\n",
       "      <td>-0.158601</td>\n",
       "      <td>0.626000</td>\n",
       "      <td>-0.063087</td>\n",
       "      <td>96.50</td>\n",
       "      <td>40.75</td>\n",
       "      <td>35.75</td>\n",
       "      <td>2015</td>\n",
       "      <td>2019</td>\n",
       "      <td>3</td>\n",
       "    </tr>\n",
       "  </tbody>\n",
       "</table>\n",
       "</div>"
      ],
      "text/plain": [
       "   PU_ID     PU_Lat    PU_Lon  Number_of_genera   Country  \\\n",
       "0      7  39.076711 -5.490011                35  Tanzania   \n",
       "1      7  39.076711 -5.490011                22  Tanzania   \n",
       "2      7  39.076711 -5.490011                25  Tanzania   \n",
       "3      7  39.076711 -5.490011                26  Tanzania   \n",
       "4     10  39.054253 -5.512514                27  Tanzania   \n",
       "5     10  39.054253 -5.512514                29  Tanzania   \n",
       "6     15  39.054253 -5.535017                19  Tanzania   \n",
       "7     39  39.009337 -5.647518                28  Tanzania   \n",
       "\n",
       "                  Ecoregion   Management           Habitat Observer  Depth  \\\n",
       "0  East African Coral Coast  UnfishedLow             Crest      Tim   11.0   \n",
       "1  East African Coral Coast  UnfishedLow  Lagoon/Back reef  Nyawira    2.0   \n",
       "2  East African Coral Coast  UnfishedLow             Slope  Nyawira    4.0   \n",
       "3  East African Coral Coast  UnfishedLow             Slope  Nyawira    3.0   \n",
       "4  East African Coral Coast  UnfishedLow  Lagoon/Back reef  Nyawira    1.5   \n",
       "5  East African Coral Coast  UnfishedLow  Lagoon/Back reef      Tim    1.5   \n",
       "6  East African Coral Coast   Restricted             Crest      Tim    8.0   \n",
       "7  East African Coral Coast  UnfishedLow  Lagoon/Back reef  Nyawira    3.0   \n",
       "\n",
       "   Coralcover  SSTRateofRise     PARmax   Calcite  Dis_oxygen  mean.waveNRJ  \\\n",
       "0          45       0.019214  54.747001  0.001075      4.7495      3.714321   \n",
       "1          45       0.019214  54.747001  0.001075      4.7495      3.714321   \n",
       "2          45       0.019214  54.747001  0.001075      4.7495      3.714321   \n",
       "3          45       0.019214  54.747001  0.001075      4.7495      3.714321   \n",
       "4          48       0.020051  55.395000  0.001747      4.7510      3.270938   \n",
       "5          48       0.020051  55.395000  0.001747      4.7510      3.270938   \n",
       "6          41       0.020051  55.395000  0.001747      4.7510      3.270938   \n",
       "7          49       0.021358  54.935499  0.001744      4.7540      2.857747   \n",
       "\n",
       "   Salinity_mean  andrello_reef_value  andrello_nutrients     mean.npp  \\\n",
       "0      35.167646                    0            8.388602  1139.112671   \n",
       "1      35.167646                    0            8.388602  1139.112671   \n",
       "2      35.167646                    0            8.388602  1139.112671   \n",
       "3      35.167646                    0            8.388602  1139.112671   \n",
       "4      35.102688                    0            6.731860  1126.355957   \n",
       "5      35.102688                    0            6.731860  1126.355957   \n",
       "6      35.102688                    0            6.731860  1126.355957   \n",
       "7      35.106329                    0            2.645199  1150.677856   \n",
       "\n",
       "   TT_market_hrs  TT_pop_hrs     cumDHW  SST_Kurtosis  SST_Median  \\\n",
       "0       1.383333    0.366667  24.133263     -0.803330      27.435   \n",
       "1       1.383333    0.366667  24.133263     -0.803330      27.435   \n",
       "2       1.383333    0.366667  24.133263     -0.803330      27.435   \n",
       "3       1.383333    0.366667  24.133263     -0.803330      27.435   \n",
       "4       1.383333    0.366667  25.342901     -0.793681      27.455   \n",
       "5       1.383333    0.366667  25.342901     -0.793681      27.455   \n",
       "6       1.383333    0.366667  25.342901     -0.793681      27.455   \n",
       "7       1.783333    0.333333  30.265219     -0.795494      27.525   \n",
       "\n",
       "   ChlorA_median  andrello_sediments  Current_vel_mean  Diff_attenuation  \\\n",
       "0       0.465182        53540.007810          0.541991           0.09475   \n",
       "1       0.465182        53540.007810          0.541991           0.09475   \n",
       "2       0.465182        53540.007810          0.541991           0.09475   \n",
       "3       0.465182        53540.007810          0.541991           0.09475   \n",
       "4       0.700521        38477.105470          0.690454           0.11400   \n",
       "5       0.700521        38477.105470          0.690454           0.11400   \n",
       "6       0.592692        38477.105470          0.690454           0.11400   \n",
       "7       0.656533         3224.024414          0.561659           0.10500   \n",
       "\n",
       "    Grav_NP    Grav_NC      PH  SST_bimodality  SST_Skewness  \\\n",
       "0  0.008503  32.387920  8.2175        0.462556     -0.128136   \n",
       "1  0.008503  32.387920  8.2175        0.462556     -0.128136   \n",
       "2  0.008503  32.387920  8.2175        0.462556     -0.128136   \n",
       "3  0.008503  32.387920  8.2175        0.462556     -0.128136   \n",
       "4  0.008503  32.387920  8.2180        0.461297     -0.134548   \n",
       "5  0.008503  32.387920  8.2180        0.461297     -0.134548   \n",
       "6  0.008503  32.387920  8.2180        0.461297     -0.134548   \n",
       "7  0.512126  19.634828  8.2185        0.464874     -0.158601   \n",
       "\n",
       "   ClimateStressModel   Netflow  Indegree  Outdegree  Retention  min_yr  \\\n",
       "0            0.596375  0.144498     98.25      74.75      14.00    2019   \n",
       "1            0.596375  0.144498     98.25      74.75      14.00    2010   \n",
       "2            0.596375  0.144498     98.25      74.75      14.00    2015   \n",
       "3            0.596375  0.144498     98.25      74.75      14.00    2016   \n",
       "4            0.629000  0.011721    112.75      51.50     183.75    2010   \n",
       "5            0.629000  0.011721    112.75      51.50     183.75    2015   \n",
       "6            0.595600  0.011721    112.75      51.50     183.75    2019   \n",
       "7            0.626000 -0.063087     96.50      40.75      35.75    2015   \n",
       "\n",
       "   max_yr  no_replicates  \n",
       "0    2019              1  \n",
       "1    2015              2  \n",
       "2    2015              1  \n",
       "3    2019              2  \n",
       "4    2019              3  \n",
       "5    2015              1  \n",
       "6    2019              1  \n",
       "7    2019              3  "
      ]
     },
     "execution_count": 41,
     "metadata": {},
     "output_type": "execute_result"
    }
   ],
   "source": [
    "# View the first 8 rows of the dataframe \n",
    "first_8_rows"
   ]
  },
  {
   "cell_type": "markdown",
   "metadata": {
    "deletable": false,
    "editable": false
   },
   "source": [
    "<!-- BEGIN QUESTION -->\n",
    "\n",
    "e. some other inital information you are interested in. "
   ]
  },
  {
   "cell_type": "code",
   "execution_count": 33,
   "metadata": {
    "tags": []
   },
   "outputs": [
    {
     "name": "stdout",
     "output_type": "stream",
     "text": [
      "<class 'pandas.core.frame.DataFrame'>\n",
      "RangeIndex: 575 entries, 0 to 574\n",
      "Data columns (total 42 columns):\n",
      " #   Column               Non-Null Count  Dtype  \n",
      "---  ------               --------------  -----  \n",
      " 0   PU_ID                575 non-null    int64  \n",
      " 1   PU_Lat               575 non-null    float64\n",
      " 2   PU_Lon               575 non-null    float64\n",
      " 3   Number_of_genera     575 non-null    int64  \n",
      " 4   Country              575 non-null    object \n",
      " 5   Ecoregion            575 non-null    object \n",
      " 6   Management           575 non-null    object \n",
      " 7   Habitat              530 non-null    object \n",
      " 8   Observer             575 non-null    object \n",
      " 9   Depth                575 non-null    float64\n",
      " 10  Coralcover           575 non-null    int64  \n",
      " 11  SSTRateofRise        575 non-null    float64\n",
      " 12  PARmax               575 non-null    float64\n",
      " 13  Calcite              575 non-null    float64\n",
      " 14  Dis_oxygen           575 non-null    float64\n",
      " 15  mean.waveNRJ         575 non-null    float64\n",
      " 16  Salinity_mean        575 non-null    float64\n",
      " 17  andrello_reef_value  575 non-null    int64  \n",
      " 18  andrello_nutrients   575 non-null    float64\n",
      " 19  mean.npp             575 non-null    float64\n",
      " 20  TT_market_hrs        575 non-null    float64\n",
      " 21  TT_pop_hrs           575 non-null    float64\n",
      " 22  cumDHW               575 non-null    float64\n",
      " 23  SST_Kurtosis         575 non-null    float64\n",
      " 24  SST_Median           575 non-null    float64\n",
      " 25  ChlorA_median        575 non-null    float64\n",
      " 26  andrello_sediments   575 non-null    float64\n",
      " 27  Current_vel_mean     567 non-null    float64\n",
      " 28  Diff_attenuation     575 non-null    float64\n",
      " 29  Grav_NP              575 non-null    float64\n",
      " 30  Grav_NC              575 non-null    float64\n",
      " 31  PH                   575 non-null    float64\n",
      " 32  SST_bimodality       575 non-null    float64\n",
      " 33  SST_Skewness         575 non-null    float64\n",
      " 34  ClimateStressModel   575 non-null    float64\n",
      " 35  Netflow              575 non-null    float64\n",
      " 36  Indegree             575 non-null    float64\n",
      " 37  Outdegree            575 non-null    float64\n",
      " 38  Retention            575 non-null    float64\n",
      " 39  min_yr               575 non-null    int64  \n",
      " 40  max_yr               575 non-null    int64  \n",
      " 41  no_replicates        575 non-null    int64  \n",
      "dtypes: float64(30), int64(7), object(5)\n",
      "memory usage: 188.8+ KB\n"
     ]
    }
   ],
   "source": [
    "# e\n",
    "\n",
    "# Returns the count of unique values within each column.\n",
    "coral_div.nunique()\n",
    "\n",
    "# Returns a data summary of the coral_div dataset.\n",
    "# Including variables such as entries, column types, column names, and more.\n",
    "coral_div.info()"
   ]
  },
  {
   "cell_type": "markdown",
   "metadata": {
    "deletable": false,
    "editable": false
   },
   "source": [
    "<!-- END QUESTION -->\n",
    "\n",
    "<!-- BEGIN QUESTION -->\n",
    "\n",
    "## 4\n",
    "\n",
    "Some of the columns have data type `int64` and some have data type `float64`. What is the difference between these `int64` and `float64`?\n"
   ]
  },
  {
   "cell_type": "markdown",
   "metadata": {},
   "source": [
    "_Type your answer here, replacing this text._"
   ]
  },
  {
   "cell_type": "markdown",
   "metadata": {
    "deletable": false,
    "editable": false
   },
   "source": [
    "<!-- END QUESTION -->\n",
    "\n",
    "<!-- BEGIN QUESTION -->\n",
    "\n",
    "## 5\n",
    "\n",
    "The `Country` column indicates the country where the coral reef is located. Explain, in your own words, what is the ouput of `coral_div['Country']` and `coral_div['Country'].unique()`. "
   ]
  },
  {
   "cell_type": "markdown",
   "metadata": {},
   "source": [
    "_Type your answer here, replacing this text._"
   ]
  },
  {
   "cell_type": "markdown",
   "metadata": {
    "deletable": false,
    "editable": false
   },
   "source": [
    "<!-- END QUESTION -->\n",
    "\n",
    "## 6\n",
    "\n",
    "Check the dataset's [metadata file README_md.doc](https://knb.ecoinformatics.org/view/doi:10.5063/F1K35S3H) to find which column has information about who made an observation. How many observers collected this data? HINT: Check this [method for `pandas.DataFrame`](https://pandas.pydata.org/docs/reference/api/pandas.DataFrame.nunique.html). Store your answer in the `unique_observers` variable."
   ]
  },
  {
   "cell_type": "code",
   "execution_count": null,
   "metadata": {
    "tags": []
   },
   "outputs": [],
   "source": [
    "unique_observers = ..."
   ]
  },
  {
   "cell_type": "markdown",
   "metadata": {},
   "source": [
    "## 7\n",
    "\n",
    "The `Coralcover` column indicates the percent of hard coral cover in each 6 km reef cell surveyed. "
   ]
  },
  {
   "cell_type": "markdown",
   "metadata": {
    "deletable": false,
    "editable": false
   },
   "source": [
    "<!-- BEGIN QUESTION -->\n",
    "\n",
    "a)  Describe, in detail,  what kind of object `coral_div['Coralcover']>= 50` is."
   ]
  },
  {
   "cell_type": "markdown",
   "metadata": {},
   "source": [
    "_Type your answer here, replacing this text._"
   ]
  },
  {
   "cell_type": "markdown",
   "metadata": {
    "deletable": false,
    "editable": false
   },
   "source": [
    "<!-- END QUESTION -->\n",
    "\n",
    "<!-- BEGIN QUESTION -->\n",
    "\n",
    "b) What data is `coral_div[coral_div['Coralcover'] >= 50]` selecting?"
   ]
  },
  {
   "cell_type": "markdown",
   "metadata": {},
   "source": [
    "_Type your answer here, replacing this text._"
   ]
  },
  {
   "cell_type": "markdown",
   "metadata": {
    "deletable": false,
    "editable": false
   },
   "source": [
    "<!-- END QUESTION -->\n",
    "\n",
    "## 8\n",
    "\n",
    "Use code to find if there are there any sites with a 30% coral cover in Tanzania. Store your answer in the `coral_cover` variable."
   ]
  },
  {
   "cell_type": "code",
   "execution_count": null,
   "metadata": {
    "tags": []
   },
   "outputs": [],
   "source": [
    "coral_cover = ..."
   ]
  },
  {
   "cell_type": "code",
   "execution_count": null,
   "metadata": {
    "tags": []
   },
   "outputs": [],
   "source": [
    "# View the dataframe\n",
    "coral_cover"
   ]
  },
  {
   "cell_type": "markdown",
   "metadata": {
    "deletable": false,
    "editable": false
   },
   "source": [
    "## 9\n",
    "\n",
    "We are interested in looking at the PH of sea water (`PH` column),  mean salinity (`Salinity_mean` column), and depth of survey location in meters (`Depth` column). Subset the data frame by selecting only these column. Store your answer in the `filtered_data` variable"
   ]
  },
  {
   "cell_type": "code",
   "execution_count": null,
   "metadata": {
    "tags": []
   },
   "outputs": [],
   "source": [
    "filtered_data = ..."
   ]
  },
  {
   "cell_type": "code",
   "execution_count": null,
   "metadata": {
    "deletable": false,
    "editable": false
   },
   "outputs": [],
   "source": [
    "# View the dataframe\n",
    "filtered_data"
   ]
  },
  {
   "cell_type": "markdown",
   "metadata": {
    "deletable": false,
    "editable": false
   },
   "source": [
    "## 10\n",
    "The `max_yr` column indicates the year of last sampling at a given site. Select the PH, salinity, and depth for sites where sampling ended in 2017. Store your answer in the `sampling_2017` variable. \n"
   ]
  },
  {
   "cell_type": "code",
   "execution_count": null,
   "metadata": {
    "tags": []
   },
   "outputs": [],
   "source": [
    "sampling_2017 = ..."
   ]
  },
  {
   "cell_type": "code",
   "execution_count": null,
   "metadata": {
    "tags": []
   },
   "outputs": [],
   "source": [
    "# View the dataframe \n",
    "sampling_2017"
   ]
  },
  {
   "cell_type": "markdown",
   "metadata": {
    "deletable": false,
    "editable": false
   },
   "source": [
    "## 11\n",
    "Use `iloc` to select rows 95 throuhg 100 (including 100) in the 17th, 20th, and 28th columns and assign these values to a new variable called `subset`. View the new `subset` dataframe.\n",
    "\n",
    "HINT: the ouput columns should be `Salinity_mean`, `mean.npp` and `Current_vel_mean`. Make sure you are indexing from 0."
   ]
  },
  {
   "cell_type": "code",
   "execution_count": null,
   "metadata": {
    "tags": []
   },
   "outputs": [],
   "source": [
    "subset = ..."
   ]
  },
  {
   "cell_type": "code",
   "execution_count": null,
   "metadata": {
    "tags": []
   },
   "outputs": [],
   "source": [
    "# View the dataframe\n",
    "subset"
   ]
  },
  {
   "cell_type": "markdown",
   "metadata": {
    "deletable": false,
    "editable": false
   },
   "source": [
    "<!-- BEGIN QUESTION -->\n",
    "\n",
    "## 12 \n",
    "\n",
    "Run `subset.isna()`. Explain what this code does and what the output represents."
   ]
  },
  {
   "cell_type": "markdown",
   "metadata": {},
   "source": [
    "_Type your answer here, replacing this text._"
   ]
  },
  {
   "cell_type": "markdown",
   "metadata": {
    "deletable": false,
    "editable": false
   },
   "source": [
    "<!-- END QUESTION -->\n",
    "\n",
    "<!-- BEGIN QUESTION -->\n",
    "\n",
    "## 13\n",
    "Run `subset.isna().any()`. Explain in your own words what this code does and what the output represents. HINT: check the [documentation of `pandas.Sries.any`](https://pandas.pydata.org/docs/reference/api/pandas.Series.any.html).\n"
   ]
  },
  {
   "cell_type": "markdown",
   "metadata": {},
   "source": [
    "_Type your answer here, replacing this text._"
   ]
  },
  {
   "cell_type": "markdown",
   "metadata": {
    "deletable": false,
    "editable": false
   },
   "source": [
    "<!-- END QUESTION -->\n",
    "\n",
    "## 14 \n",
    "\n",
    "Select the rows in `subset` that have NA in the `Current_vel_mean` column. Store your answer in the `subset_na` variable."
   ]
  },
  {
   "cell_type": "code",
   "execution_count": null,
   "metadata": {
    "jp-MarkdownHeadingCollapsed": true,
    "tags": []
   },
   "outputs": [],
   "source": [
    "subset_na = ..."
   ]
  },
  {
   "cell_type": "code",
   "execution_count": null,
   "metadata": {
    "tags": []
   },
   "outputs": [],
   "source": [
    "# View the dataframe \n",
    "subset_na"
   ]
  }
 ],
 "metadata": {
  "kernelspec": {
   "display_name": "Python 3 (ipykernel)",
   "language": "python",
   "name": "python3"
  },
  "language_info": {
   "codemirror_mode": {
    "name": "ipython",
    "version": 3
   },
   "file_extension": ".py",
   "mimetype": "text/x-python",
   "name": "python",
   "nbconvert_exporter": "python",
   "pygments_lexer": "ipython3",
   "version": "3.7.13"
  },
  "vscode": {
   "interpreter": {
    "hash": "fd47fb98a7ce7f6a10c657f2a810bfb9d752313f8f3dd9c5b44bfbb724ce30e0"
   }
  }
 },
 "nbformat": 4,
 "nbformat_minor": 4
}
